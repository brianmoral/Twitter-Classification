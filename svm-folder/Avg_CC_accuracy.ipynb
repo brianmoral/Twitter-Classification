{
 "cells": [
  {
   "cell_type": "code",
   "execution_count": 3,
   "metadata": {},
   "outputs": [],
   "source": [
    "import pandas as pd\n",
    "import numpy as np\n",
    "# This file contains all required utilities to build resolvings sets and probabilistic methods\n",
    "from Utils.resolving import *\n",
    "from Utils.dataframes import *\n",
    "from Utils.SVM  import SVC_model\n",
    "from Utils.plots import averaging_plot\n",
    "\n",
    "# import os\n",
    "## Figure out file path. Better for working with people\n",
    "#root_path = os.path.dirname(___file__); \n",
    "\n",
    "SENTI_DATA_PATH= \"../Files/Full_Vader_Senti.txt\""
   ]
  },
  {
   "attachments": {},
   "cell_type": "markdown",
   "metadata": {},
   "source": [
    "### Cross Contamination Sentence Generating Function"
   ]
  },
  {
   "cell_type": "code",
   "execution_count": 4,
   "metadata": {},
   "outputs": [],
   "source": [
    "#addition of cross contamination \n",
    "#############################################\n",
    "#\n",
    "#Param: n := number of words in each dictionary (n for each tone) \n",
    "#       lam := average sentence length\n",
    "#       crossC_fraction := the expected portion of the words in each sentnece that are from the opposite tone.\n",
    "#\n",
    "#\n",
    "#############################################\n",
    "def generate_cross_contaminated_sentences(n = 350, lam = 50, crossC_fraction = 0.01):\n",
    "    \n",
    "    imported_vader_words = []\n",
    "    negative_vader_list = []\n",
    "    neutral_vader_list = []\n",
    "    positive_vader_list = []\n",
    "    \n",
    "    #reading in the words. Change the filepath to suit where yours is stored\n",
    "    x = open(SENTI_DATA_PATH, \"r\")\n",
    "    #e = r\"C:\\Users\\ajpar\\Desktop\\Research Documents\\Project Coding\\Full_Tweet_List_Processed.txt\"\n",
    "    for line in x:\n",
    "        \n",
    "        l = line.strip('\\n')\n",
    "        l = l.split(\"\\t\")\n",
    "        imported_vader_words.append(l)\n",
    "        \n",
    "    x.close()\n",
    "\n",
    "    for y in imported_vader_words : #sorting the words by tone\n",
    "        if (-1<= float(y[1]) <= 1):\n",
    "            neutral_vader_list.append(y[0]) \n",
    "        elif (float(y[1]) < -1):\n",
    "            negative_vader_list.append(y[0])\n",
    "        else :\n",
    "            positive_vader_list.append(y[0])\n",
    "\n",
    "\n",
    "    shorten_pos = random.sample(positive_vader_list, n) #gets random n words w/out duplicates\n",
    "    shorten_neg = random.sample(negative_vader_list, n) #gets random n words w/out duplicates\n",
    "    shorten_neutral = random.sample(neutral_vader_list, n) #gets random n words w/out duplicates\n",
    "\n",
    "\n",
    "    negative_sent_list = []\n",
    "    for i in range(0,500):\n",
    "        h = np.random.poisson(lam=lam - lam*crossC_fraction, size=None)\n",
    "        k = np.random.poisson(lam= lam*crossC_fraction, size=None)\n",
    "        negative_sent_list.append(random.sample(shorten_neg, h) +random.sample(shorten_pos, k))\n",
    "\n",
    "    positive_sent_list = []\n",
    "    for i in range(0,500):\n",
    "        #changes so poisson is still same mean with addition\n",
    "        h = np.random.poisson(lam=lam - lam*crossC_fraction, size=None)\n",
    "        k = np.random.poisson(lam= lam*crossC_fraction, size=None)\n",
    "        positive_sent_list.append(random.sample(shorten_pos, h)+random.sample(shorten_neg, k))\n",
    "\n",
    "\n",
    "    final_list = negative_sent_list + positive_sent_list\n",
    "\n",
    "    #getting wordlist \n",
    "    wordlist_crossC = {x for l in final_list for x in l}\n",
    "    wordlist_crossC_prime = {x for l in final_list for x in l}\n",
    "\n",
    "    #generating resolving set. note that the \"prime\" is for the compliment resolving set, and can be deleted if you don't want to deal with that\n",
    "    resolving_crossC = Random_Resolving_Set(wordlist_crossC)\n",
    "    resolving_crossC_prime = Random_Resolving_Set_Compliment(wordlist_crossC_prime)\n",
    "\n",
    "    #generating the Jaccard Matrices\n",
    "    JacMatrix_crossC = JVecEMatrix(resolving_crossC,final_list)\n",
    "    JacMatrix_crossC_prime = JVecEMatrix(resolving_crossC_prime,final_list)\n",
    "\n",
    "    labeled_dic_crossC = {}\n",
    "    labeled_dic_crossC_prime = {}\n",
    "\n",
    "    #this just stores all the vectors of the Jmatrix in a dictionary with key vec, and tone corresponding to its tone. \n",
    "    for i in range(0,len(JacMatrix_crossC)):\n",
    "        if (i<500):\n",
    "            labeled_dic_crossC[i] = {'vec': JacMatrix_crossC[i], 'tone': \"negative\"}\n",
    "        elif (500<i<1000):\n",
    "            labeled_dic_crossC[i] = {'vec': JacMatrix_crossC[i], 'tone': \"positive\"}\n",
    "        else:\n",
    "            labeled_dic_crossC[i] = {'vec': JacMatrix_crossC[i], 'tone': \"neutral\"} #for now this never triggers, but could for tri tone cross contam\n",
    "\n",
    "\n",
    "    for i in range(0,len(JacMatrix_crossC_prime)):\n",
    "        if (i<500):\n",
    "            labeled_dic_crossC_prime[i] = {'vec': JacMatrix_crossC_prime[i], 'tone': \"negative\"}\n",
    "        elif (500<i<1000):\n",
    "            labeled_dic_crossC_prime[i] = {'vec': JacMatrix_crossC_prime[i], 'tone': \"positive\"}\n",
    "        else:\n",
    "            labeled_dic_crossC_prime[i] = {'vec': JacMatrix_crossC_prime[i], 'tone': \"neutral\"}#for now this never triggers, but could for tri tone cross contam\n",
    "            \n",
    "    return Dict_to_df(labeled_dic_crossC); "
   ]
  },
  {
   "attachments": {},
   "cell_type": "markdown",
   "metadata": {},
   "source": [
    "## Cross Contamination Averaging Plot"
   ]
  },
  {
   "cell_type": "code",
   "execution_count": 5,
   "metadata": {},
   "outputs": [],
   "source": [
    "import seaborn as sns\n",
    "\n",
    "inc_frac = [0.01, 0.05, 0.10, 0.15, 0.20, 0.25, 0.30, 0.35, 0.40]\n",
    "acc_score = []\n",
    "for fraction in inc_frac: \n",
    "    curr_acc_list = []\n",
    "    for i in range(10):\n",
    "        cross_df, tones = generate_cross_contaminated_sentences(crossC_fraction=fraction)\n",
    "        tones = Category_encode(tones)\n",
    "        curr_acc_list.append(SVC_model(cross_df, tones))\n",
    "    acc_score.append(curr_acc_list)\n",
    "\n",
    "acc = np.array(acc_score).T\n",
    "accuracy_df = pd.DataFrame(acc, columns=[\"1%\", \"5%\", \"10%\", \"15%\", \"20%\", \"25%\", \"30%\", \"35%\", \"40%\"])"
   ]
  },
  {
   "cell_type": "code",
   "execution_count": 2,
   "metadata": {},
   "outputs": [
    {
     "ename": "NameError",
     "evalue": "name 'pd' is not defined",
     "output_type": "error",
     "traceback": [
      "\u001b[0;31m---------------------------------------------------------------------------\u001b[0m",
      "\u001b[0;31mNameError\u001b[0m                                 Traceback (most recent call last)",
      "\u001b[1;32m/Users/brianmorales/Desktop/Spring-2023/Twitter-Classification/svm-folder/Avg_CC_accuracy.ipynb Cell 6\u001b[0m in \u001b[0;36m<cell line: 1>\u001b[0;34m()\u001b[0m\n\u001b[0;32m----> <a href='vscode-notebook-cell:/Users/brianmorales/Desktop/Spring-2023/Twitter-Classification/svm-folder/Avg_CC_accuracy.ipynb#W5sZmlsZQ%3D%3D?line=0'>1</a>\u001b[0m accuracy_df \u001b[39m=\u001b[39m pd\u001b[39m.\u001b[39mDataFrame(acc, columns\u001b[39m=\u001b[39m[\u001b[39m\"\u001b[39m\u001b[39m1\u001b[39m\u001b[39m%\u001b[39m\u001b[39m\"\u001b[39m, \u001b[39m\"\u001b[39m\u001b[39m5\u001b[39m\u001b[39m%\u001b[39m\u001b[39m\"\u001b[39m, \u001b[39m\"\u001b[39m\u001b[39m10\u001b[39m\u001b[39m%\u001b[39m\u001b[39m\"\u001b[39m, \u001b[39m\"\u001b[39m\u001b[39m15\u001b[39m\u001b[39m%\u001b[39m\u001b[39m\"\u001b[39m, \u001b[39m\"\u001b[39m\u001b[39m20\u001b[39m\u001b[39m%\u001b[39m\u001b[39m\"\u001b[39m, \u001b[39m\"\u001b[39m\u001b[39m25\u001b[39m\u001b[39m%\u001b[39m\u001b[39m\"\u001b[39m, \u001b[39m\"\u001b[39m\u001b[39m30\u001b[39m\u001b[39m%\u001b[39m\u001b[39m\"\u001b[39m, \u001b[39m\"\u001b[39m\u001b[39m35\u001b[39m\u001b[39m%\u001b[39m\u001b[39m\"\u001b[39m, \u001b[39m\"\u001b[39m\u001b[39m40\u001b[39m\u001b[39m%\u001b[39m\u001b[39m\"\u001b[39m])\n\u001b[1;32m      <a href='vscode-notebook-cell:/Users/brianmorales/Desktop/Spring-2023/Twitter-Classification/svm-folder/Avg_CC_accuracy.ipynb#W5sZmlsZQ%3D%3D?line=1'>2</a>\u001b[0m xlabel \u001b[39m=\u001b[39m \u001b[39m\"\u001b[39m\u001b[39mIncrement fraction of cross contamination by 5\u001b[39m\u001b[39m%\u001b[39m\u001b[39m\"\u001b[39m\n\u001b[1;32m      <a href='vscode-notebook-cell:/Users/brianmorales/Desktop/Spring-2023/Twitter-Classification/svm-folder/Avg_CC_accuracy.ipynb#W5sZmlsZQ%3D%3D?line=2'>3</a>\u001b[0m title \u001b[39m=\u001b[39m \u001b[39m\"\u001b[39m\u001b[39mBoxplot Comparing the Different Accuracy\u001b[39m\u001b[39m'\u001b[39m\u001b[39ms Incrementing Cross Contamination\u001b[39m\u001b[39m\"\u001b[39m\n",
      "\u001b[0;31mNameError\u001b[0m: name 'pd' is not defined"
     ]
    }
   ],
   "source": [
    "\n",
    "xlabel = \"Increment fraction of cross contamination by 5%\"\n",
    "title = \"Boxplot Comparing the Different Accuracy's Incrementing Cross Contamination\"\n",
    "averaging_plot(accuracy_df, x_label=xlabel, title=title)"
   ]
  },
  {
   "cell_type": "code",
   "execution_count": null,
   "metadata": {},
   "outputs": [],
   "source": []
  }
 ],
 "metadata": {
  "kernelspec": {
   "display_name": "base",
   "language": "python",
   "name": "python3"
  },
  "language_info": {
   "codemirror_mode": {
    "name": "ipython",
    "version": 3
   },
   "file_extension": ".py",
   "mimetype": "text/x-python",
   "name": "python",
   "nbconvert_exporter": "python",
   "pygments_lexer": "ipython3",
   "version": "3.9.12"
  },
  "orig_nbformat": 4,
  "vscode": {
   "interpreter": {
    "hash": "40d3a090f54c6569ab1632332b64b2c03c39dcf918b08424e98f38b5ae0af88f"
   }
  }
 },
 "nbformat": 4,
 "nbformat_minor": 2
}
