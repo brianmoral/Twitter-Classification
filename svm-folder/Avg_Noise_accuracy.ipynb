{
 "cells": [
  {
   "cell_type": "code",
   "execution_count": 8,
   "metadata": {},
   "outputs": [],
   "source": [
    "import pandas as pd\n",
    "import numpy as np\n",
    "# This file contains all required utilities to build resolvings sets and probabilistic methods\n",
    "from Utils.resolving import *\n",
    "from Utils.dataframes import Dict_to_df\n",
    "from Utils.SVM  import SVC_model\n",
    "from Utils.plots import averaging_plot\n",
    "\n",
    "SENTI_DATA_PATH= \"../Files/Full_Vader_Senti.txt\""
   ]
  },
  {
   "cell_type": "code",
   "execution_count": 9,
   "metadata": {},
   "outputs": [],
   "source": [
    "def generate_noise_sentences(n = 350, lam = 50, noise_fraction = 0.01):\n",
    "    imported_vader_words = []\n",
    "    negative_vader_list = []\n",
    "    neutral_vader_list = []\n",
    "    positive_vader_list = []\n",
    "\n",
    "\n",
    "    #reading in the words. Change the filepath to suit where yours is stored\n",
    "    x = open(SENTI_DATA_PATH, \"r\")\n",
    "    #reading in the words. Change the filepath to suit where yours is stored\n",
    "    for line in x:\n",
    "        \n",
    "        l = line.strip('\\n')\n",
    "        l = l.split(\"\\t\")\n",
    "        imported_vader_words.append(l)\n",
    "        \n",
    "    x.close()\n",
    "\n",
    "    for y in imported_vader_words : #sorting the words by tone\n",
    "        if (-1<= float(y[1]) <= 1):\n",
    "            neutral_vader_list.append(y[0]) \n",
    "        elif (float(y[1]) < -1):\n",
    "            negative_vader_list.append(y[0])\n",
    "        else :\n",
    "            positive_vader_list.append(y[0])\n",
    "\n",
    "\n",
    "    shorten_pos = random.sample(positive_vader_list, n) #gets random n words w/out duplicates\n",
    "    shorten_neg = random.sample(negative_vader_list, n) #gets random n words w/out duplicates\n",
    "    shorten_neutral = random.sample(neutral_vader_list, n) #gets random n words w/out duplicates\n",
    "\n",
    "\n",
    "    negative_sent_list = []\n",
    "    for i in range(0,500):\n",
    "        h = np.random.poisson(lam=lam - lam*noise_fraction, size=None)\n",
    "        k = np.random.poisson(lam= lam*noise_fraction, size=None)\n",
    "        negative_sent_list.append(random.sample(shorten_neg, h) +random.sample(shorten_neutral, k))\n",
    "\n",
    "    positive_sent_list = []\n",
    "    for i in range(0,500):\n",
    "        #changes so poisson is still same mean with addition\n",
    "        h = np.random.poisson(lam=lam - lam*noise_fraction, size=None)\n",
    "        k = np.random.poisson(lam= lam*noise_fraction, size=None)\n",
    "        positive_sent_list.append(random.sample(shorten_pos, h)+random.sample(shorten_neutral, k))\n",
    "\n",
    "\n",
    "    final_list = negative_sent_list + positive_sent_list\n",
    "\n",
    "    #getting wordlist \n",
    "    wordlist_noise = {x for l in final_list for x in l}\n",
    "    wordlist_noise_prime = {x for l in final_list for x in l}\n",
    "\n",
    "    #generating resolving set. note that the \"prime\" is for the compliment resolving set, and can be deleted if you don't want to deal with that\n",
    "    resolving_noise = Random_Resolving_Set(wordlist_noise)\n",
    "    resolving_noise_prime = Random_Resolving_Set_Compliment(wordlist_noise_prime)\n",
    "\n",
    "    #generating the Jaccard Matrices\n",
    "    JacMatrix_noise = JVecEMatrix(resolving_noise,final_list)\n",
    "    JacMatrix_noise_prime = JVecEMatrix(resolving_noise_prime,final_list)\n",
    "\n",
    "    labeled_dic_noise = {}\n",
    "    labeled_dic_noise_prime = {}\n",
    "\n",
    "    #this just stores all the vectors of the Jmatrix in a dictionary with key vec, and tone corresponding to its tone. \n",
    "    for i in range(0,len(JacMatrix_noise)):\n",
    "        if (i<500):\n",
    "            labeled_dic_noise[i] = {'vec': JacMatrix_noise[i], 'tone': \"negative\"}\n",
    "        elif (500<i<1000):\n",
    "            labeled_dic_noise[i] = {'vec': JacMatrix_noise[i], 'tone': \"positive\"}\n",
    "        else:\n",
    "            labeled_dic_noise[i] = {'vec': JacMatrix_noise[i], 'tone': \"neutral\"} #for now this never triggers, but could for tri tone cross contam\n",
    "\n",
    "\n",
    "    for i in range(0,len(JacMatrix_noise_prime)):\n",
    "        if (i<500):\n",
    "            labeled_dic_noise_prime[i] = {'vec': JacMatrix_noise_prime[i], 'tone': \"negative\"}\n",
    "        elif (500<i<1000):\n",
    "            labeled_dic_noise_prime[i] = {'vec': JacMatrix_noise_prime[i], 'tone': \"positive\"}\n",
    "        else:\n",
    "            labeled_dic_noise_prime[i] = {'vec': JacMatrix_noise_prime[i], 'tone': \"neutral\"}#for now this never triggers, but could for tri tone cross contam\n",
    "\n",
    "    return Dict_to_df(labeled_dic_noise)"
   ]
  },
  {
   "cell_type": "code",
   "execution_count": 5,
   "metadata": {},
   "outputs": [
    {
     "name": "stdout",
     "output_type": "stream",
     "text": [
      "308\n"
     ]
    }
   ],
   "source": [
    "noise_df, tones = generate_noise_sentences()"
   ]
  },
  {
   "attachments": {},
   "cell_type": "markdown",
   "metadata": {},
   "source": [
    "## Noisey Sentences Averaging Plot"
   ]
  },
  {
   "cell_type": "markdown",
   "metadata": {},
   "source": []
  }
 ],
 "metadata": {
  "kernelspec": {
   "display_name": "base",
   "language": "python",
   "name": "python3"
  },
  "language_info": {
   "codemirror_mode": {
    "name": "ipython",
    "version": 3
   },
   "file_extension": ".py",
   "mimetype": "text/x-python",
   "name": "python",
   "nbconvert_exporter": "python",
   "pygments_lexer": "ipython3",
   "version": "3.9.12"
  },
  "orig_nbformat": 4,
  "vscode": {
   "interpreter": {
    "hash": "40d3a090f54c6569ab1632332b64b2c03c39dcf918b08424e98f38b5ae0af88f"
   }
  }
 },
 "nbformat": 4,
 "nbformat_minor": 2
}
