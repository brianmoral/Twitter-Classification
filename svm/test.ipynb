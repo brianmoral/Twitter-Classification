{
 "cells": [
  {
   "cell_type": "code",
   "execution_count": 1,
   "metadata": {},
   "outputs": [],
   "source": [
    "import pandas as pd\n",
    "import numpy as np\n",
    "# This file contains all required utilities to build resolvings sets and probabilistic methods\n",
    "from Utils.resolving import *\n",
    "from Utils.dataframes import *\n",
    "from Utils.SVM  import SVC_model\n",
    "\n",
    "\n",
    "SENTI_DATA_PATH= \"../Files/Full_Vader_Senti.txt\""
   ]
  },
  {
   "cell_type": "code",
   "execution_count": 27,
   "metadata": {},
   "outputs": [
    {
     "name": "stdout",
     "output_type": "stream",
     "text": [
      "332\n"
     ]
    }
   ],
   "source": [
    "#addition of tri tone cross contamination (no noise)\n",
    "\n",
    "n = 350 # number of words in each dictionary (n for each tone)\n",
    "lam = 30 # average sentence length\n",
    "crossC3_fraction = .1 #the expected portion of the words in each sentnece that are from the opposite tone.\n",
    "imported_vader_words = []\n",
    "negative_vader_list = []\n",
    "neutral_vader_list = []\n",
    "positive_vader_list = []\n",
    "acc_vec_crossC3 = []\n",
    "acc_vec_crossC3_prime =[]\n",
    "\n",
    "#reading in the words. Change the filepath to suit where yours is stored\n",
    "x = open(SENTI_DATA_PATH, \"r\")\n",
    "#e = r\"C:\\Users\\ajpar\\Desktop\\Research Documents\\Project Coding\\Full_Tweet_List_Processed.txt\"\n",
    "for line in x:\n",
    "    \n",
    "    l = line.strip('\\n')\n",
    "    l = l.split(\"\\t\")\n",
    "    imported_vader_words.append(l)\n",
    "    \n",
    "x.close()\n",
    "\n",
    "for y in imported_vader_words : #sorting the words by tone\n",
    "    if (-1<= float(y[1]) <= 1):\n",
    "        neutral_vader_list.append(y[0]) \n",
    "    elif (float(y[1]) < -1):\n",
    "        negative_vader_list.append(y[0])\n",
    "    else :\n",
    "        positive_vader_list.append(y[0])\n",
    "\n",
    "\n",
    "\n",
    "\n",
    "\n",
    "shorten_pos = random.sample(positive_vader_list, n) #gets random n words w/out duplicates\n",
    "shorten_neg = random.sample(negative_vader_list, n) #gets random n words w/out duplicates\n",
    "shorten_neutral = random.sample(neutral_vader_list, n) #gets random n words w/out duplicates\n",
    "\n",
    "\n",
    "negative_sent_list = []\n",
    "for i in range(0,500):\n",
    "    h = np.random.poisson(lam=lam - 2*lam*crossC3_fraction, size=None)\n",
    "    k = np.random.poisson(lam= lam*crossC3_fraction, size=None)\n",
    "    j = np.random.poisson(lam= lam*crossC3_fraction, size=None)\n",
    "    negative_sent_list.append(random.sample(shorten_neg, h) +random.sample(shorten_pos, k) + random.sample(shorten_neutral,j))\n",
    "\n",
    "positive_sent_list = []\n",
    "for i in range(0,500):\n",
    "    #changes so poisson is still same mean with addition\n",
    "    h = np.random.poisson(lam=lam - 2*lam*crossC3_fraction, size=None)\n",
    "    k = np.random.poisson(lam= lam*crossC3_fraction, size=None)\n",
    "    j = np.random.poisson(lam= lam*crossC3_fraction, size=None)\n",
    "    positive_sent_list.append(random.sample(shorten_pos, h)+random.sample(shorten_neg, k) + random.sample(shorten_neutral,j))\n",
    "\n",
    "neutral_sent_list = []\n",
    "for i in range(0,500):\n",
    "    #changes so poisson is still same mean with addition\n",
    "    h = np.random.poisson(lam=lam - 2*lam*crossC3_fraction, size=None)\n",
    "    k = np.random.poisson(lam= lam*crossC3_fraction, size=None)\n",
    "    j = np.random.poisson(lam= lam*crossC3_fraction, size=None)\n",
    "    neutral_sent_list.append(random.sample(shorten_neutral,h)+random.sample(shorten_pos, k)+random.sample(shorten_neg, j))\n",
    "\n",
    "\n",
    "\n",
    "\n",
    "final_list = negative_sent_list + positive_sent_list + neutral_sent_list\n",
    "\n",
    "#getting wordlist \n",
    "wordlist_crossC3 = {x for l in final_list for x in l}\n",
    "wordlist_crossC3_prime = {x for l in final_list for x in l}\n",
    "\n",
    "#generating resolving set. note that the \"prime\" is for the compliment resolving set, and can be deleted if you don't want to deal with that\n",
    "resolving_crossC3 = Random_Resolving_Set((shorten_pos+shorten_neg+shorten_neutral).copy())\n",
    "resolving_crossC3_prime = Random_Resolving_Set(shorten_pos) + Random_Resolving_Set(shorten_neg) + Random_Resolving_Set(shorten_neutral)# + #Random_Resolving_Set(shorten_neutral)\n",
    "print(len(resolving_crossC3))\n",
    "\n",
    "#generating the Jaccard Matrices\n",
    "JacMatrix_crossC3 = JVecEMatrix(resolving_crossC3,final_list)\n",
    "JacMatrix_crossC3_prime = JVecEMatrix(resolving_crossC3_prime,final_list)\n",
    "\n",
    "labeled_dic_crossC3 = {}\n",
    "labeled_dic_crossC3_prime = {}\n",
    "\n",
    "#this just stores all the vectors of the Jmatrix in a dictionary with key vec, and tone corresponding to its tone. \n",
    "for i in range(0,len(JacMatrix_crossC3)):\n",
    "    if (i<500):\n",
    "        labeled_dic_crossC3[i] = {'vec': JacMatrix_crossC3[i], 'tone': \"negative\"}\n",
    "    elif (500<i<1000):\n",
    "        labeled_dic_crossC3[i] = {'vec': JacMatrix_crossC3[i], 'tone': \"positive\"}\n",
    "    else:\n",
    "        labeled_dic_crossC3[i] = {'vec': JacMatrix_crossC3[i], 'tone': \"neutral\"} #for now this never triggers, but could for tri tone cross contam\n",
    "\n",
    "\n",
    "for i in range(0,len(JacMatrix_crossC3_prime)):\n",
    "    if (i<500):\n",
    "        labeled_dic_crossC3_prime[i] = {'vec': JacMatrix_crossC3_prime[i], 'tone': \"negative\"}\n",
    "    elif (500<i<1000):\n",
    "        labeled_dic_crossC3_prime[i] = {'vec': JacMatrix_crossC3_prime[i], 'tone': \"positive\"}\n",
    "    else:\n",
    "        labeled_dic_crossC3_prime[i] = {'vec': JacMatrix_crossC3_prime[i], 'tone': \"neutral\"}#for now this never triggers, but could for tri tone cross contam\n",
    "        \n",
    "cross_df, tones = Dict_to_df(labeled_dic_crossC3); "
   ]
  },
  {
   "cell_type": "code",
   "execution_count": 28,
   "metadata": {},
   "outputs": [],
   "source": [
    "tones = Category_encode(tones)"
   ]
  },
  {
   "cell_type": "code",
   "execution_count": 29,
   "metadata": {},
   "outputs": [
    {
     "data": {
      "text/plain": [
       "0.43333333333333335"
      ]
     },
     "execution_count": 29,
     "metadata": {},
     "output_type": "execute_result"
    }
   ],
   "source": [
    "SVC_model(cross_df, tones)"
   ]
  },
  {
   "cell_type": "code",
   "execution_count": 43,
   "metadata": {},
   "outputs": [],
   "source": [
    "#addition of cross contamination \n",
    "#############################################\n",
    "#\n",
    "#Param: n := number of words in each dictionary (n for each tone) \n",
    "#       lam := average sentence length\n",
    "#       crossC_fraction := the expected portion of the words in each sentnece that are from the opposite tone.\n",
    "#\n",
    "#\n",
    "#############################################\n",
    "def generate_cross_contaminated_v1(n = 350, lam = 50, crossC_fraction = 0.01):\n",
    "    \n",
    "    imported_vader_words = []\n",
    "    negative_vader_list = []\n",
    "    neutral_vader_list = []\n",
    "    positive_vader_list = []\n",
    "    \n",
    "    #reading in the words. Change the filepath to suit where yours is stored\n",
    "    x = open(SENTI_DATA_PATH, \"r\")\n",
    "    #e = r\"C:\\Users\\ajpar\\Desktop\\Research Documents\\Project Coding\\Full_Tweet_List_Processed.txt\"\n",
    "    for line in x:\n",
    "        \n",
    "        l = line.strip('\\n')\n",
    "        l = l.split(\"\\t\")\n",
    "        imported_vader_words.append(l)\n",
    "        \n",
    "    x.close()\n",
    "\n",
    "    for y in imported_vader_words : #sorting the words by tone\n",
    "        if (-1<= float(y[1]) <= 1):\n",
    "            neutral_vader_list.append(y[0]) \n",
    "        elif (float(y[1]) < -1):\n",
    "            negative_vader_list.append(y[0])\n",
    "        else :\n",
    "            positive_vader_list.append(y[0])\n",
    "\n",
    "\n",
    "    shorten_pos = random.sample(positive_vader_list, n) #gets random n words w/out duplicates\n",
    "    shorten_neg = random.sample(negative_vader_list, n) #gets random n words w/out duplicates\n",
    "    shorten_neutral = random.sample(neutral_vader_list, n) #gets random n words w/out duplicates\n",
    "\n",
    "\n",
    "    negative_sent_list = []\n",
    "    for i in range(0,500):\n",
    "        h = np.random.poisson(lam=lam - lam*crossC_fraction, size=None)\n",
    "        k = np.random.poisson(lam= lam*crossC_fraction, size=None)\n",
    "        negative_sent_list.append(random.sample(shorten_neg, h) +random.sample(shorten_pos, k))\n",
    "\n",
    "    positive_sent_list = []\n",
    "    for i in range(0,500):\n",
    "        #changes so poisson is still same mean with addition\n",
    "        h = np.random.poisson(lam=lam - lam*crossC_fraction, size=None)\n",
    "        k = np.random.poisson(lam= lam*crossC_fraction, size=None)\n",
    "        positive_sent_list.append(random.sample(shorten_pos, h)+random.sample(shorten_neg, k))\n",
    "\n",
    "\n",
    "    final_list = negative_sent_list + positive_sent_list\n",
    "\n",
    "    #getting wordlist \n",
    "    wordlist_crossC = {x for l in final_list for x in l}\n",
    "    wordlist_crossC_prime = {x for l in final_list for x in l}\n",
    "\n",
    "    #generating resolving set. note that the \"prime\" is for the compliment resolving set, and can be deleted if you don't want to deal with that\n",
    "    resolving_crossC = Random_Resolving_Set(wordlist_crossC)\n",
    "    resolving_crossC_prime = Random_Resolving_Set_Compliment(wordlist_crossC_prime)\n",
    "\n",
    "    #generating the Jaccard Matrices\n",
    "    JacMatrix_crossC = JVecEMatrix(resolving_crossC,final_list)\n",
    "    JacMatrix_crossC_prime = JVecEMatrix(resolving_crossC_prime,final_list)\n",
    "\n",
    "    labeled_dic_crossC = {}\n",
    "    labeled_dic_crossC_prime = {}\n",
    "\n",
    "    #this just stores all the vectors of the Jmatrix in a dictionary with key vec, and tone corresponding to its tone. \n",
    "    for i in range(0,len(JacMatrix_crossC)):\n",
    "        if (i<500):\n",
    "            labeled_dic_crossC[i] = {'vec': JacMatrix_crossC[i], 'tone': \"negative\"}\n",
    "        elif (500<i<1000):\n",
    "            labeled_dic_crossC[i] = {'vec': JacMatrix_crossC[i], 'tone': \"positive\"}\n",
    "        else:\n",
    "            labeled_dic_crossC[i] = {'vec': JacMatrix_crossC[i], 'tone': \"neutral\"} #for now this never triggers, but could for tri tone cross contam\n",
    "\n",
    "\n",
    "    for i in range(0,len(JacMatrix_crossC_prime)):\n",
    "        if (i<500):\n",
    "            labeled_dic_crossC_prime[i] = {'vec': JacMatrix_crossC_prime[i], 'tone': \"negative\"}\n",
    "        elif (500<i<1000):\n",
    "            labeled_dic_crossC_prime[i] = {'vec': JacMatrix_crossC_prime[i], 'tone': \"positive\"}\n",
    "        else:\n",
    "            labeled_dic_crossC_prime[i] = {'vec': JacMatrix_crossC_prime[i], 'tone': \"neutral\"}#for now this never triggers, but could for tri tone cross contam\n",
    "            \n",
    "    return Dict_to_df(labeled_dic_crossC); "
   ]
  },
  {
   "cell_type": "code",
   "execution_count": 52,
   "metadata": {},
   "outputs": [],
   "source": [
    "df, tone = generate_cross_contaminated_v1(n = 350, crossC_fraction=0.1)\n",
    "tones = Category_encode(tone)"
   ]
  },
  {
   "cell_type": "code",
   "execution_count": 53,
   "metadata": {},
   "outputs": [
    {
     "data": {
      "text/plain": [
       "1.0"
      ]
     },
     "execution_count": 53,
     "metadata": {},
     "output_type": "execute_result"
    }
   ],
   "source": [
    "SVC_model(df, tones)"
   ]
  },
  {
   "cell_type": "code",
   "execution_count": null,
   "metadata": {},
   "outputs": [],
   "source": []
  }
 ],
 "metadata": {
  "kernelspec": {
   "display_name": "Python 3",
   "language": "python",
   "name": "python3"
  },
  "language_info": {
   "codemirror_mode": {
    "name": "ipython",
    "version": 3
   },
   "file_extension": ".py",
   "mimetype": "text/x-python",
   "name": "python",
   "nbconvert_exporter": "python",
   "pygments_lexer": "ipython3",
   "version": "3.10.8"
  },
  "orig_nbformat": 4
 },
 "nbformat": 4,
 "nbformat_minor": 2
}
